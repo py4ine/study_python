{
 "cells": [
  {
   "cell_type": "code",
   "execution_count": 20,
   "metadata": {},
   "outputs": [],
   "source": [
    "# 암호산술 1. SYNAP + SOFT = WANTS + YOU\n",
    "\n",
    "item_s = [ 1, 2, 3, 4, 5, 6, 7, 8, 9]\n",
    "item_y = [ 1, 2, 3, 4, 5, 6, 7, 8, 9]\n",
    "item_n = [ 0, 1, 2, 3, 4, 5, 6, 7, 8, 9]\n",
    "item_a = [ 0, 1, 2, 3, 4, 5, 6, 7, 8, 9]\n",
    "item_p = [ 0, 1, 2, 3, 4, 5, 6, 7, 8, 9]\n",
    "item_o = [ 0, 1, 2, 3, 4, 5, 6, 7, 8, 9]\n",
    "item_f = [ 0, 1, 2, 3, 4, 5, 6, 7, 8, 9]\n",
    "item_t = [ 0, 1, 2, 3, 4, 5, 6, 7, 8, 9]\n",
    "item_w = [ 1, 2, 3, 4, 5, 6, 7, 8, 9]\n",
    "item_u = [ 0, 1, 2, 3, 4, 5, 6, 7, 8, 9]"
   ]
  },
  {
   "cell_type": "code",
   "execution_count": 29,
   "metadata": {},
   "outputs": [
    {
     "ename": "KeyboardInterrupt",
     "evalue": "",
     "output_type": "error",
     "traceback": [
      "\u001b[0;31m---------------------------------------------------------------------------\u001b[0m",
      "\u001b[0;31mKeyboardInterrupt\u001b[0m                         Traceback (most recent call last)",
      "Cell \u001b[0;32mIn[29], line 17\u001b[0m\n\u001b[1;32m     15\u001b[0m \u001b[38;5;28;01mfor\u001b[39;00m u \u001b[38;5;129;01min\u001b[39;00m item_u:\n\u001b[1;32m     16\u001b[0m     num_synap \u001b[38;5;241m=\u001b[39m \u001b[38;5;28mint\u001b[39m(\u001b[38;5;124mf\u001b[39m\u001b[38;5;124m'\u001b[39m\u001b[38;5;132;01m{\u001b[39;00ms\u001b[38;5;132;01m}\u001b[39;00m\u001b[38;5;132;01m{\u001b[39;00my\u001b[38;5;132;01m}\u001b[39;00m\u001b[38;5;132;01m{\u001b[39;00mn\u001b[38;5;132;01m}\u001b[39;00m\u001b[38;5;132;01m{\u001b[39;00ma\u001b[38;5;132;01m}\u001b[39;00m\u001b[38;5;132;01m{\u001b[39;00mp\u001b[38;5;132;01m}\u001b[39;00m\u001b[38;5;124m'\u001b[39m)\n\u001b[0;32m---> 17\u001b[0m     num_soft \u001b[38;5;241m=\u001b[39m \u001b[38;5;28mint\u001b[39m(\u001b[38;5;124mf\u001b[39m\u001b[38;5;124m'\u001b[39m\u001b[38;5;132;43;01m{\u001b[39;49;00m\u001b[43ms\u001b[49m\u001b[38;5;132;43;01m}\u001b[39;49;00m\u001b[38;5;132;01m{\u001b[39;00mo\u001b[38;5;132;01m}\u001b[39;00m\u001b[38;5;132;01m{\u001b[39;00mf\u001b[38;5;132;01m}\u001b[39;00m\u001b[38;5;132;01m{\u001b[39;00mt\u001b[38;5;132;01m}\u001b[39;00m\u001b[38;5;124m'\u001b[39m)\n\u001b[1;32m     18\u001b[0m     num_wants \u001b[38;5;241m=\u001b[39m \u001b[38;5;28mint\u001b[39m(\u001b[38;5;124mf\u001b[39m\u001b[38;5;124m'\u001b[39m\u001b[38;5;132;01m{\u001b[39;00mw\u001b[38;5;132;01m}\u001b[39;00m\u001b[38;5;132;01m{\u001b[39;00ma\u001b[38;5;132;01m}\u001b[39;00m\u001b[38;5;132;01m{\u001b[39;00mn\u001b[38;5;132;01m}\u001b[39;00m\u001b[38;5;132;01m{\u001b[39;00mt\u001b[38;5;132;01m}\u001b[39;00m\u001b[38;5;132;01m{\u001b[39;00ms\u001b[38;5;132;01m}\u001b[39;00m\u001b[38;5;124m'\u001b[39m)\n\u001b[1;32m     19\u001b[0m     num_you \u001b[38;5;241m=\u001b[39m \u001b[38;5;28mint\u001b[39m(\u001b[38;5;124mf\u001b[39m\u001b[38;5;124m'\u001b[39m\u001b[38;5;132;01m{\u001b[39;00my\u001b[38;5;132;01m}\u001b[39;00m\u001b[38;5;132;01m{\u001b[39;00mo\u001b[38;5;132;01m}\u001b[39;00m\u001b[38;5;132;01m{\u001b[39;00mu\u001b[38;5;132;01m}\u001b[39;00m\u001b[38;5;124m'\u001b[39m)\n",
      "\u001b[0;31mKeyboardInterrupt\u001b[0m: "
     ]
    }
   ],
   "source": [
    "synap = []\n",
    "soft = []\n",
    "wants = []\n",
    "you = []\n",
    "\n",
    "for s in item_s:\n",
    "    for y in item_y:\n",
    "        for n in item_n:\n",
    "            for a in item_a:\n",
    "                for p in item_p:\n",
    "                    for o in item_o:\n",
    "                        for f in item_f:\n",
    "                            for t in item_t:\n",
    "                                for w in item_w:\n",
    "                                    for u in item_u:\n",
    "                                        num_synap = int(f'{s}{y}{n}{a}{p}')\n",
    "                                        num_soft = int(f'{s}{o}{f}{t}')\n",
    "                                        num_wants = int(f'{w}{a}{n}{t}{s}')\n",
    "                                        num_you = int(f'{y}{o}{u}')\n",
    "\n",
    "                                        left_num = num_synap + num_soft\n",
    "                                        right_num = num_wants + num_you\n",
    "                                        \n",
    "                                        if left_num == right_num:\n",
    "                                            synap.append(num_synap)\n",
    "                                            soft.append(num_soft)\n",
    "                                            wants.append(num_wants)\n",
    "                                            you.append(num_you)"
   ]
  },
  {
   "cell_type": "code",
   "execution_count": null,
   "metadata": {},
   "outputs": [],
   "source": [
    "answer_num = sum(synap) + sum(soft)\n",
    "\n",
    "print(\"좌변 숫자의 합:\", answer_num)"
   ]
  }
 ],
 "metadata": {
  "kernelspec": {
   "display_name": "base",
   "language": "python",
   "name": "python3"
  },
  "language_info": {
   "codemirror_mode": {
    "name": "ipython",
    "version": 3
   },
   "file_extension": ".py",
   "mimetype": "text/x-python",
   "name": "python",
   "nbconvert_exporter": "python",
   "pygments_lexer": "ipython3",
   "version": "3.12.2"
  }
 },
 "nbformat": 4,
 "nbformat_minor": 2
}
