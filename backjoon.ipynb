{
 "cells": [
  {
   "cell_type": "code",
   "execution_count": 10,
   "metadata": {},
   "outputs": [
    {
     "name": "stdout",
     "output_type": "stream",
     "text": [
      "3\n"
     ]
    }
   ],
   "source": [
    "# 소수 찾ㅣ - 1978\n",
    "\n",
    "N = int(input())\n",
    "n_input = input().split()\n",
    "v = []\n",
    "for i in n_input:\n",
    "    i = int(i)\n",
    "\n",
    "    v2 = []\n",
    "    for j in range(i):\n",
    "        if i % (j+1) == 0:\n",
    "            v2.append(j+1)\n",
    "    k = len(v2)\n",
    "    \n",
    "    if k == 2:\n",
    "        v.append(i)\n",
    "\n",
    "count = len(v)\n",
    "print(count)"
   ]
  },
  {
   "cell_type": "code",
   "execution_count": 44,
   "metadata": {},
   "outputs": [
    {
     "name": "stdout",
     "output_type": "stream",
     "text": [
      "6 = 1 + 2 + 3\n",
      "12 is NOT perfect.\n",
      "28 = 1 + 2 + 4 + 7 + 14\n"
     ]
    }
   ],
   "source": [
    "# 약수들의 합 - 9506\n",
    "\n",
    "while True:\n",
    "    n = int(input())\n",
    "    if n == -1:\n",
    "        break\n",
    "\n",
    "    v = []\n",
    "    for i in range(n):    \n",
    "        if n % (i+1) == 0:\n",
    "            v.append(i+1)\n",
    "\n",
    "    v1 = v[0:-1]\n",
    "    v2 = v[-1]\n",
    "\n",
    "    sentence = f\"{n} = \"\n",
    "    vPlus = 0\n",
    "    for i in v1:\n",
    "        vPlus += i\n",
    "        sentence = sentence + f\"{i} + \"\n",
    "\n",
    "    if n == vPlus:\n",
    "        sentence = sentence[:-3]\n",
    "        print(sentence)\n",
    "    else:\n",
    "        print(f\"{n} is NOT perfect.\")"
   ]
  },
  {
   "cell_type": "code",
   "execution_count": 12,
   "metadata": {},
   "outputs": [
    {
     "name": "stdout",
     "output_type": "stream",
     "text": [
      "1\n"
     ]
    }
   ],
   "source": [
    "# 약수 구하기 - 2501\n",
    "N, K = map(int, input().split())\n",
    "\n",
    "value = []\n",
    "for i in range(N):\n",
    "    v = N % (i+1)\n",
    "    if v == 0:\n",
    "        value.append(i+1)\n",
    "l = len(value)\n",
    "\n",
    "if K > l:\n",
    "    print(0)\n",
    "else:   \n",
    "    print(value[K-1])"
   ]
  },
  {
   "cell_type": "code",
   "execution_count": null,
   "metadata": {},
   "outputs": [
    {
     "name": "stdout",
     "output_type": "stream",
     "text": [
      "factor\n",
      "multiple\n",
      "neither\n"
     ]
    }
   ],
   "source": [
    "# 배수와 약수 - 5086\n",
    "while True:\n",
    "    a, b = map(int, input().split())\n",
    "    if a == 0 and b == 0:\n",
    "            break\n",
    "    \n",
    "    if b % a == 0:\n",
    "        print(\"factor\")\n",
    "    elif a % b == 0:\n",
    "        print(\"multiple\")\n",
    "    else:\n",
    "        print(\"neither\")"
   ]
  },
  {
   "cell_type": "code",
   "execution_count": null,
   "metadata": {},
   "outputs": [
    {
     "name": "stdout",
     "output_type": "stream",
     "text": [
      "999999901\n"
     ]
    }
   ],
   "source": [
    "# 일반수학1-2869\n",
    "A, B, V = map(int, input().split())\n",
    "\n",
    "# l = 0\n",
    "# count = 0\n",
    "# while l < V:\n",
    "#     count += 1\n",
    "#     l += A\n",
    "#     if l >= V:\n",
    "#         break\n",
    "#     l -= B\n",
    "# print(count)\n",
    "\n",
    "import math\n",
    "day = math.ceil((V - A) / (A - B)) + 1\n",
    "print(day)"
   ]
  },
  {
   "cell_type": "code",
   "execution_count": null,
   "metadata": {},
   "outputs": [
    {
     "name": "stdout",
     "output_type": "stream",
     "text": [
      "0 / 1\n",
      "0 / 2\n"
     ]
    }
   ],
   "source": [
    "# 일반수학1-1193\n",
    "\"\"\"\n",
    "1 / 1\n",
    "1 / 2 *\n",
    "2 / 1\n",
    "*3 / 1\n",
    "2 / 2\n",
    "1 / 3\n",
    "1 / 4 *\n",
    "2 / 3\n",
    "3 / 2\n",
    "4 / 1\n",
    "*5 / 1\n",
    "4 / 2\n",
    "3 / 3\n",
    "2 / 4\n",
    "1 / 5\n",
    "1 / 6 *\n",
    "2 / 5\n",
    "3 / 4\n",
    "4 / 3\n",
    "5 / 2\n",
    "6 / 1\n",
    "*7 / 1\n",
    "\"\"\"\n",
    "\n",
    "n = int(input())\n",
    "x = 0\n",
    "y = 1\n",
    "\n",
    "for i in range(n):\n",
    "    x = x * i + 1 - y\n",
    "    y = y * i + 1 - x\n",
    "    print(f'{x} / {y}')"
   ]
  },
  {
   "cell_type": "code",
   "execution_count": 56,
   "metadata": {},
   "outputs": [
    {
     "name": "stdout",
     "output_type": "stream",
     "text": [
      "t: 7\n",
      "t: 19\n",
      "t: 37\n",
      "t: 61\n",
      "t: 91\n",
      "6\n"
     ]
    }
   ],
   "source": [
    "# 일반수학1-2292\n",
    "# 1 6 12 18 24\n",
    "# 1 7 19\n",
    "\n",
    "n = int(input())\n",
    "t = 1\n",
    "v = 1\n",
    "\n",
    "while n > t:    \n",
    "    t = (v * 6) + t\n",
    "    v += 1\n",
    "    print(\"t:\", t)\n",
    "\n",
    "print(v)"
   ]
  },
  {
   "cell_type": "code",
   "execution_count": null,
   "metadata": {},
   "outputs": [],
   "source": [
    "# 일반수학1-2903\n",
    "n = int(input())\n",
    "\n",
    "point = 2\n",
    "for i in range(n):\n",
    "    t = i+1\n",
    "    square = 4**n\n",
    "    point = (point*2-1)\n",
    "    total = point**2\n",
    "print(total)"
   ]
  },
  {
   "cell_type": "code",
   "execution_count": null,
   "metadata": {},
   "outputs": [],
   "source": [
    "# 일반수학1-2720\n",
    "t = int(input())\n",
    "\n",
    "for i in range(t):\n",
    "        \n",
    "    c = int(input())\n",
    "    if 1 > c or c > 500:\n",
    "        pass\n",
    "\n",
    "    quarter = c // 25\n",
    "    less = c % 25\n",
    "    if less == 0:\n",
    "        dime = 0\n",
    "        nickel = 0\n",
    "        penny = 0\n",
    "        print(f\"{quarter} {dime} {nickel} {penny}\")\n",
    "    else:\n",
    "        dime = less // 10\n",
    "        less = less % 10\n",
    "        if less == 0:\n",
    "            nickel = 0\n",
    "            penny = 0\n",
    "            print(f\"{quarter} {dime} {nickel} {penny}\")\n",
    "        else:\n",
    "            nickel = less // 5\n",
    "            less = less % 5\n",
    "            if less == 0:\n",
    "                penny = 0\n",
    "                print(f\"{quarter} {dime} {nickel} {penny}\")\n",
    "            else:\n",
    "                penny = less\n",
    "                print(f\"{quarter} {dime} {nickel} {penny}\")"
   ]
  },
  {
   "cell_type": "code",
   "execution_count": null,
   "metadata": {},
   "outputs": [],
   "source": []
  }
 ],
 "metadata": {
  "kernelspec": {
   "display_name": "base",
   "language": "python",
   "name": "python3"
  },
  "language_info": {
   "codemirror_mode": {
    "name": "ipython",
    "version": 3
   },
   "file_extension": ".py",
   "mimetype": "text/x-python",
   "name": "python",
   "nbconvert_exporter": "python",
   "pygments_lexer": "ipython3",
   "version": "3.12.2"
  }
 },
 "nbformat": 4,
 "nbformat_minor": 2
}
