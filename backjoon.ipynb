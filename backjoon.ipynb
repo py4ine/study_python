{
 "cells": [
  {
   "cell_type": "code",
   "execution_count": null,
   "metadata": {},
   "outputs": [
    {
     "name": "stdout",
     "output_type": "stream",
     "text": [
      "Scalene\n"
     ]
    }
   ],
   "source": [
    "# 삼각형 외우기 - 10101\n",
    "e1 = int(input())\n",
    "e2 = int(input())\n",
    "e3 = int(input())\n",
    "\n",
    "if e1 == e2 == e3 and e1 == 60:\n",
    "    print(\"Equilateral\")\n",
    "elif e1+e2+e3 == 180 and e1==e2!=e3 or e1==e3!=e2 or e2==e3!=e1:\n",
    "    print(\"Isosceles\")\n",
    "elif e1+e2+e3 == 180 and e1 != e2 != e3:\n",
    "    print(\"Scalene\")\n",
    "else:\n",
    "    print(\"Error\")"
   ]
  },
  {
   "cell_type": "code",
   "execution_count": null,
   "metadata": {},
   "outputs": [
    {
     "name": "stdout",
     "output_type": "stream",
     "text": [
      "9\n"
     ]
    }
   ],
   "source": [
    "# 대지 - 9063\n",
    "N = int(input())\n",
    "\n",
    "x_ary = []\n",
    "y_ary = []\n",
    "for i in range(N):\n",
    "    x, y = map(int, input().split())\n",
    "    x_ary.append(x)\n",
    "    y_ary.append(y)\n",
    "\n",
    "x_max = max(x_ary)\n",
    "x_min = min(x_ary)\n",
    "y_max = max(y_ary)\n",
    "y_min = min(y_ary)\n",
    "\n",
    "x_value = x_max - x_min\n",
    "y_value = y_max - y_min\n",
    "\n",
    "print(x_value * y_value)"
   ]
  },
  {
   "cell_type": "code",
   "execution_count": null,
   "metadata": {},
   "outputs": [],
   "source": [
    "# 수학은 체육과목 입니다 - 15894\n",
    "\"\"\" 1=4 2=8 3=12 \"\"\"\n",
    "n = int(input())\n",
    "a = n * 4\n",
    "print(a)"
   ]
  },
  {
   "cell_type": "code",
   "execution_count": null,
   "metadata": {},
   "outputs": [
    {
     "name": "stdout",
     "output_type": "stream",
     "text": [
      "30 10\n"
     ]
    }
   ],
   "source": [
    "# 네 번째 점 - 3009\n",
    "x1, y1 = map(int, input().split())\n",
    "x2, y2 = map(int, input().split())\n",
    "x3, y3 = map(int, input().split())\n",
    "\n",
    "if x1 == x2:\n",
    "    x4 = x3\n",
    "elif x2 == x3:\n",
    "    x4 = x1\n",
    "elif x1 == x3:\n",
    "    x4 = x2\n",
    "\n",
    "if y1 == y2:\n",
    "    y4 = y3\n",
    "elif y2 == y3:\n",
    "    y4 = y1\n",
    "elif y1 == y3:\n",
    "    y4 = y2\n",
    "\n",
    "print(x4, y4)"
   ]
  },
  {
   "cell_type": "code",
   "execution_count": null,
   "metadata": {},
   "outputs": [
    {
     "name": "stdout",
     "output_type": "stream",
     "text": [
      "161\n"
     ]
    }
   ],
   "source": [
    "# 직사각형에서 탈출 - 1085\n",
    "x, y, w, h = map(int, input().split())\n",
    "x2 = w - x\n",
    "y2 = h - y\n",
    "short = min([x, y, x2, y2])\n",
    "print(short)"
   ]
  },
  {
   "cell_type": "code",
   "execution_count": null,
   "metadata": {},
   "outputs": [
    {
     "name": "stdout",
     "output_type": "stream",
     "text": [
      "6\n"
     ]
    }
   ],
   "source": [
    "# 직사각형 - 27323\n",
    "A = int(input())\n",
    "B = int(input())\n",
    "print(A*B)"
   ]
  },
  {
   "cell_type": "code",
   "execution_count": null,
   "metadata": {},
   "outputs": [
    {
     "name": "stdout",
     "output_type": "stream",
     "text": [
      "인수: [1, 2, 3, 4, 6, 8, 9, 12, 18, 24, 36, 72]\n",
      "소수: [2, 3]\n",
      "2\n",
      "2\n",
      "2\n",
      "3\n",
      "3\n"
     ]
    }
   ],
   "source": [
    "# 소수인수분해 - 11653\n",
    "N = int(input())\n",
    "\n",
    "import math\n",
    "def primeNumber(x):  # 소수 판별 함수\n",
    "    if x > 1:\n",
    "        for i in range (2, int(math.sqrt(x)+1)):\n",
    "            if x % i == 0:\n",
    "                return False\n",
    "        return True\n",
    "    else:\n",
    "        return False\n",
    "\n",
    "factor = []\n",
    "for i in range(N+1):\n",
    "    if N % (i+1) == 0:\n",
    "        factor.append(i+1)\n",
    "print(\"인수:\", factor)\n",
    "\n",
    "primeN = []\n",
    "for i in factor:\n",
    "    if primeNumber(i) == True:\n",
    "        primeN.append(i)\n",
    "print(\"소수:\", primeN)\n",
    "\n",
    "primeFactor = []\n",
    "c = True\n",
    "while c:\n",
    "    for i in primeN:\n",
    "        if N % i == 0:\n",
    "            primeFactor.append(i)\n",
    "            N = N / i\n",
    "            pass\n",
    "    if N == 1:\n",
    "        break\n",
    "    elif primeNumber(N) == True:\n",
    "        primeFactor.append(int(N))\n",
    "        c = False\n",
    "\n",
    "primeFactor.sort()\n",
    "for i in primeFactor:\n",
    "    print(i)"
   ]
  },
  {
   "cell_type": "code",
   "execution_count": null,
   "metadata": {},
   "outputs": [
    {
     "name": "stdout",
     "output_type": "stream",
     "text": [
      "620\n",
      "61\n"
     ]
    }
   ],
   "source": [
    "# 소수 - 2581\n",
    "M = int(input())\n",
    "N = int(input())\n",
    "\n",
    "# 방법2 = ok\n",
    "import math\n",
    "\n",
    "def primeNumber(x):  # 소수 판별 함수\n",
    "    if x > 1:\n",
    "        for i in range (2, int(math.sqrt(x)+1)):\n",
    "            if x % i == 0:\n",
    "                return False\n",
    "        return True\n",
    "    else:\n",
    "        return False\n",
    "\n",
    "v = []\n",
    "for j in range(M, N+1):\n",
    "    if j == 0:\n",
    "        pass\n",
    "    else:\n",
    "        if primeNumber(j) == True:\n",
    "            v.append(j)\n",
    "\n",
    "# # 방법1 = 시간초과\n",
    "# v= []\n",
    "# for i in range(M, N+1):\n",
    "#     if i == 0:\n",
    "#         pass\n",
    "#     else:\n",
    "#         count = 0\n",
    "#         for j in range(i):\n",
    "#             if i % (j+1) == 0:\n",
    "#                 count += 1\n",
    "#         if count == 2:\n",
    "#             v.append(i)\n",
    "\n",
    "if len(v) == 0:\n",
    "    print(-1)\n",
    "else:\n",
    "    sum_v = sum(v)\n",
    "    min_v = min(v)\n",
    "    print(sum_v)\n",
    "    print(min_v)"
   ]
  },
  {
   "cell_type": "code",
   "execution_count": null,
   "metadata": {},
   "outputs": [
    {
     "name": "stdout",
     "output_type": "stream",
     "text": [
      "3\n"
     ]
    }
   ],
   "source": [
    "# 소수 찾기 - 1978\n",
    "\n",
    "N = int(input())\n",
    "n_input = input().split()\n",
    "v = []\n",
    "for i in n_input:\n",
    "    i = int(i)\n",
    "\n",
    "    v2 = []\n",
    "    for j in range(i):\n",
    "        if i % (j+1) == 0:\n",
    "            v2.append(j+1)\n",
    "    k = len(v2)\n",
    "    \n",
    "    if k == 2:\n",
    "        v.append(i)\n",
    "\n",
    "count = len(v)\n",
    "print(count)"
   ]
  },
  {
   "cell_type": "code",
   "execution_count": 44,
   "metadata": {},
   "outputs": [
    {
     "name": "stdout",
     "output_type": "stream",
     "text": [
      "6 = 1 + 2 + 3\n",
      "12 is NOT perfect.\n",
      "28 = 1 + 2 + 4 + 7 + 14\n"
     ]
    }
   ],
   "source": [
    "# 약수들의 합 - 9506\n",
    "\n",
    "while True:\n",
    "    n = int(input())\n",
    "    if n == -1:\n",
    "        break\n",
    "\n",
    "    v = []\n",
    "    for i in range(n):    \n",
    "        if n % (i+1) == 0:\n",
    "            v.append(i+1)\n",
    "\n",
    "    v1 = v[0:-1]\n",
    "    v2 = v[-1]\n",
    "\n",
    "    sentence = f\"{n} = \"\n",
    "    vPlus = 0\n",
    "    for i in v1:\n",
    "        vPlus += i\n",
    "        sentence = sentence + f\"{i} + \"\n",
    "\n",
    "    if n == vPlus:\n",
    "        sentence = sentence[:-3]\n",
    "        print(sentence)\n",
    "    else:\n",
    "        print(f\"{n} is NOT perfect.\")"
   ]
  },
  {
   "cell_type": "code",
   "execution_count": 12,
   "metadata": {},
   "outputs": [
    {
     "name": "stdout",
     "output_type": "stream",
     "text": [
      "1\n"
     ]
    }
   ],
   "source": [
    "# 약수 구하기 - 2501\n",
    "N, K = map(int, input().split())\n",
    "\n",
    "value = []\n",
    "for i in range(N):\n",
    "    v = N % (i+1)\n",
    "    if v == 0:\n",
    "        value.append(i+1)\n",
    "l = len(value)\n",
    "\n",
    "if K > l:\n",
    "    print(0)\n",
    "else:   \n",
    "    print(value[K-1])"
   ]
  },
  {
   "cell_type": "code",
   "execution_count": null,
   "metadata": {},
   "outputs": [
    {
     "name": "stdout",
     "output_type": "stream",
     "text": [
      "factor\n",
      "multiple\n",
      "neither\n"
     ]
    }
   ],
   "source": [
    "# 배수와 약수 - 5086\n",
    "while True:\n",
    "    a, b = map(int, input().split())\n",
    "    if a == 0 and b == 0:\n",
    "            break\n",
    "    \n",
    "    if b % a == 0:\n",
    "        print(\"factor\")\n",
    "    elif a % b == 0:\n",
    "        print(\"multiple\")\n",
    "    else:\n",
    "        print(\"neither\")"
   ]
  },
  {
   "cell_type": "code",
   "execution_count": null,
   "metadata": {},
   "outputs": [
    {
     "name": "stdout",
     "output_type": "stream",
     "text": [
      "999999901\n"
     ]
    }
   ],
   "source": [
    "# 일반수학1-2869\n",
    "A, B, V = map(int, input().split())\n",
    "\n",
    "# l = 0\n",
    "# count = 0\n",
    "# while l < V:\n",
    "#     count += 1\n",
    "#     l += A\n",
    "#     if l >= V:\n",
    "#         break\n",
    "#     l -= B\n",
    "# print(count)\n",
    "\n",
    "import math\n",
    "day = math.ceil((V - A) / (A - B)) + 1\n",
    "print(day)"
   ]
  },
  {
   "cell_type": "code",
   "execution_count": null,
   "metadata": {},
   "outputs": [
    {
     "name": "stdout",
     "output_type": "stream",
     "text": [
      "0 / 1\n",
      "0 / 2\n"
     ]
    }
   ],
   "source": [
    "# 일반수학1-1193\n",
    "\"\"\"\n",
    "1 / 1\n",
    "1 / 2 *\n",
    "2 / 1\n",
    "*3 / 1\n",
    "2 / 2\n",
    "1 / 3\n",
    "1 / 4 *\n",
    "2 / 3\n",
    "3 / 2\n",
    "4 / 1\n",
    "*5 / 1\n",
    "4 / 2\n",
    "3 / 3\n",
    "2 / 4\n",
    "1 / 5\n",
    "1 / 6 *\n",
    "2 / 5\n",
    "3 / 4\n",
    "4 / 3\n",
    "5 / 2\n",
    "6 / 1\n",
    "*7 / 1\n",
    "\"\"\"\n",
    "\n",
    "n = int(input())\n",
    "x = 0\n",
    "y = 1\n",
    "\n",
    "for i in range(n):\n",
    "    x = x * i + 1 - y\n",
    "    y = y * i + 1 - x\n",
    "    print(f'{x} / {y}')"
   ]
  },
  {
   "cell_type": "code",
   "execution_count": 56,
   "metadata": {},
   "outputs": [
    {
     "name": "stdout",
     "output_type": "stream",
     "text": [
      "t: 7\n",
      "t: 19\n",
      "t: 37\n",
      "t: 61\n",
      "t: 91\n",
      "6\n"
     ]
    }
   ],
   "source": [
    "# 일반수학1-2292\n",
    "# 1 6 12 18 24\n",
    "# 1 7 19\n",
    "\n",
    "n = int(input())\n",
    "t = 1\n",
    "v = 1\n",
    "\n",
    "while n > t:    \n",
    "    t = (v * 6) + t\n",
    "    v += 1\n",
    "    print(\"t:\", t)\n",
    "\n",
    "print(v)"
   ]
  },
  {
   "cell_type": "code",
   "execution_count": null,
   "metadata": {},
   "outputs": [],
   "source": [
    "# 일반수학1-2903\n",
    "n = int(input())\n",
    "\n",
    "point = 2\n",
    "for i in range(n):\n",
    "    t = i+1\n",
    "    square = 4**n\n",
    "    point = (point*2-1)\n",
    "    total = point**2\n",
    "print(total)"
   ]
  },
  {
   "cell_type": "code",
   "execution_count": null,
   "metadata": {},
   "outputs": [],
   "source": [
    "# 일반수학1-2720\n",
    "t = int(input())\n",
    "\n",
    "for i in range(t):\n",
    "        \n",
    "    c = int(input())\n",
    "    if 1 > c or c > 500:\n",
    "        pass\n",
    "\n",
    "    quarter = c // 25\n",
    "    less = c % 25\n",
    "    if less == 0:\n",
    "        dime = 0\n",
    "        nickel = 0\n",
    "        penny = 0\n",
    "        print(f\"{quarter} {dime} {nickel} {penny}\")\n",
    "    else:\n",
    "        dime = less // 10\n",
    "        less = less % 10\n",
    "        if less == 0:\n",
    "            nickel = 0\n",
    "            penny = 0\n",
    "            print(f\"{quarter} {dime} {nickel} {penny}\")\n",
    "        else:\n",
    "            nickel = less // 5\n",
    "            less = less % 5\n",
    "            if less == 0:\n",
    "                penny = 0\n",
    "                print(f\"{quarter} {dime} {nickel} {penny}\")\n",
    "            else:\n",
    "                penny = less\n",
    "                print(f\"{quarter} {dime} {nickel} {penny}\")"
   ]
  },
  {
   "cell_type": "code",
   "execution_count": null,
   "metadata": {},
   "outputs": [],
   "source": []
  }
 ],
 "metadata": {
  "kernelspec": {
   "display_name": "base",
   "language": "python",
   "name": "python3"
  },
  "language_info": {
   "codemirror_mode": {
    "name": "ipython",
    "version": 3
   },
   "file_extension": ".py",
   "mimetype": "text/x-python",
   "name": "python",
   "nbconvert_exporter": "python",
   "pygments_lexer": "ipython3",
   "version": "3.12.2"
  }
 },
 "nbformat": 4,
 "nbformat_minor": 2
}
