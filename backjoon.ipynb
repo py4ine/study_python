{
 "cells": [
  {
   "cell_type": "code",
   "execution_count": null,
   "metadata": {},
   "outputs": [],
   "source": [
    "# 일반수학1-2720\n",
    "t = int(input())\n",
    "\n",
    "for i in range(t):\n",
    "        \n",
    "    c = int(input())\n",
    "    if 1 > c or c > 500:\n",
    "        pass\n",
    "\n",
    "    quarter = c // 25\n",
    "    less = c % 25\n",
    "    if less == 0:\n",
    "        dime = 0\n",
    "        nickel = 0\n",
    "        penny = 0\n",
    "        print(f\"{quarter} {dime} {nickel} {penny}\")\n",
    "    else:\n",
    "        dime = less // 10\n",
    "        less = less % 10\n",
    "        if less == 0:\n",
    "            nickel = 0\n",
    "            penny = 0\n",
    "            print(f\"{quarter} {dime} {nickel} {penny}\")\n",
    "        else:\n",
    "            nickel = less // 5\n",
    "            less = less % 5\n",
    "            if less == 0:\n",
    "                penny = 0\n",
    "                print(f\"{quarter} {dime} {nickel} {penny}\")\n",
    "            else:\n",
    "                penny = less\n",
    "                print(f\"{quarter} {dime} {nickel} {penny}\")"
   ]
  },
  {
   "cell_type": "code",
   "execution_count": null,
   "metadata": {},
   "outputs": [],
   "source": [
    "# 일반수학1-2903\n",
    "n = int(input())\n",
    "\n",
    "point = 2\n",
    "for i in range(n):\n",
    "    t = i+1\n",
    "    square = 4**n\n",
    "    point = (point*2-1)\n",
    "    total = point**2\n",
    "print(total)"
   ]
  },
  {
   "cell_type": "code",
   "execution_count": null,
   "metadata": {},
   "outputs": [],
   "source": []
  }
 ],
 "metadata": {
  "kernelspec": {
   "display_name": "base",
   "language": "python",
   "name": "python3"
  },
  "language_info": {
   "codemirror_mode": {
    "name": "ipython",
    "version": 3
   },
   "file_extension": ".py",
   "mimetype": "text/x-python",
   "name": "python",
   "nbconvert_exporter": "python",
   "pygments_lexer": "ipython3",
   "version": "3.12.2"
  }
 },
 "nbformat": 4,
 "nbformat_minor": 2
}
