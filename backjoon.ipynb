{
 "cells": [
  {
   "cell_type": "code",
   "execution_count": null,
   "metadata": {},
   "outputs": [],
   "source": []
  },
  {
   "cell_type": "code",
   "execution_count": 7,
   "metadata": {},
   "outputs": [
    {
     "name": "stdout",
     "output_type": "stream",
     "text": [
      "0 / 1\n",
      "0 / 2\n"
     ]
    }
   ],
   "source": [
    "# 일반수학1-1193\n",
    "\"\"\"\n",
    "1 / 1\n",
    "1 / 2 *\n",
    "2 / 1\n",
    "*3 / 1\n",
    "2 / 2\n",
    "1 / 3\n",
    "1 / 4 *\n",
    "2 / 3\n",
    "3 / 2\n",
    "4 / 1\n",
    "*5 / 1\n",
    "4 / 2\n",
    "3 / 3\n",
    "2 / 4\n",
    "1 / 5\n",
    "1 / 6 *\n",
    "2 / 5\n",
    "3 / 4\n",
    "4 / 3\n",
    "5 / 2\n",
    "6 / 1\n",
    "*7 / 1\n",
    "\"\"\"\n",
    "\n",
    "n = int(input())\n",
    "x = 0\n",
    "y = 1\n",
    "\n",
    "for i in range(n):\n",
    "    x = x * i + 1 - y\n",
    "    y = y * i + 1 - x\n",
    "    print(f'{x} / {y}')"
   ]
  },
  {
   "cell_type": "code",
   "execution_count": 56,
   "metadata": {},
   "outputs": [
    {
     "name": "stdout",
     "output_type": "stream",
     "text": [
      "t: 7\n",
      "t: 19\n",
      "t: 37\n",
      "t: 61\n",
      "t: 91\n",
      "6\n"
     ]
    }
   ],
   "source": [
    "# 일반수학1-2292\n",
    "# 1 6 12 18 24\n",
    "# 1 7 19\n",
    "\n",
    "n = int(input())\n",
    "t = 1\n",
    "v = 1\n",
    "\n",
    "while n > t:    \n",
    "    t = (v * 6) + t\n",
    "    v += 1\n",
    "    print(\"t:\", t)\n",
    "\n",
    "print(v)"
   ]
  },
  {
   "cell_type": "code",
   "execution_count": null,
   "metadata": {},
   "outputs": [],
   "source": [
    "# 일반수학1-2903\n",
    "n = int(input())\n",
    "\n",
    "point = 2\n",
    "for i in range(n):\n",
    "    t = i+1\n",
    "    square = 4**n\n",
    "    point = (point*2-1)\n",
    "    total = point**2\n",
    "print(total)"
   ]
  },
  {
   "cell_type": "code",
   "execution_count": null,
   "metadata": {},
   "outputs": [],
   "source": [
    "# 일반수학1-2720\n",
    "t = int(input())\n",
    "\n",
    "for i in range(t):\n",
    "        \n",
    "    c = int(input())\n",
    "    if 1 > c or c > 500:\n",
    "        pass\n",
    "\n",
    "    quarter = c // 25\n",
    "    less = c % 25\n",
    "    if less == 0:\n",
    "        dime = 0\n",
    "        nickel = 0\n",
    "        penny = 0\n",
    "        print(f\"{quarter} {dime} {nickel} {penny}\")\n",
    "    else:\n",
    "        dime = less // 10\n",
    "        less = less % 10\n",
    "        if less == 0:\n",
    "            nickel = 0\n",
    "            penny = 0\n",
    "            print(f\"{quarter} {dime} {nickel} {penny}\")\n",
    "        else:\n",
    "            nickel = less // 5\n",
    "            less = less % 5\n",
    "            if less == 0:\n",
    "                penny = 0\n",
    "                print(f\"{quarter} {dime} {nickel} {penny}\")\n",
    "            else:\n",
    "                penny = less\n",
    "                print(f\"{quarter} {dime} {nickel} {penny}\")"
   ]
  },
  {
   "cell_type": "code",
   "execution_count": null,
   "metadata": {},
   "outputs": [],
   "source": []
  }
 ],
 "metadata": {
  "kernelspec": {
   "display_name": "base",
   "language": "python",
   "name": "python3"
  },
  "language_info": {
   "codemirror_mode": {
    "name": "ipython",
    "version": 3
   },
   "file_extension": ".py",
   "mimetype": "text/x-python",
   "name": "python",
   "nbconvert_exporter": "python",
   "pygments_lexer": "ipython3",
   "version": "3.12.2"
  }
 },
 "nbformat": 4,
 "nbformat_minor": 2
}
